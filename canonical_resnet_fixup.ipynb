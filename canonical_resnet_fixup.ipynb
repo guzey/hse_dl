{
  "nbformat": 4,
  "nbformat_minor": 0,
  "metadata": {
    "colab": {
      "name": "canonical-resnet-fixup.ipynb",
      "version": "0.3.2",
      "provenance": []
    },
    "kernelspec": {
      "name": "python3",
      "display_name": "Python 3"
    },
    "accelerator": "GPU"
  },
  "cells": [
    {
      "metadata": {
        "id": "KdLbir0eioZw",
        "colab_type": "code",
        "colab": {}
      },
      "cell_type": "code",
      "source": [
        "# ---------------------------------------------------------------------------- #\n",
        "# An implementation of https://arxiv.org/pdf/1512.03385.pdf                    #\n",
        "# See section 4.2 for the model architecture on CIFAR-10                       #\n",
        "# Some part of the code was referenced from below                              #\n",
        "# https://github.com/pytorch/vision/blob/master/torchvision/models/resnet.py   #\n",
        "# ---------------------------------------------------------------------------- #\n",
        "\n",
        "import torch\n",
        "import torch.nn as nn\n",
        "import torchvision\n",
        "import torchvision.transforms as transforms"
      ],
      "execution_count": 0,
      "outputs": []
    },
    {
      "metadata": {
        "id": "y7dHpflUYLzM",
        "colab_type": "code",
        "outputId": "5b919a25-f2f7-4360-cb3d-b4be9fc5b29b",
        "colab": {
          "base_uri": "https://localhost:8080/",
          "height": 34
        }
      },
      "cell_type": "code",
      "source": [
        "# Device configuration\n",
        "device = torch.device('cuda' if torch.cuda.is_available() else 'cpu')\n",
        "\n",
        "# Image preprocessing modules\n",
        "transform = transforms.Compose([\n",
        "    transforms.Pad(4),\n",
        "    transforms.RandomHorizontalFlip(),\n",
        "    transforms.RandomCrop(32),\n",
        "    transforms.ToTensor()])\n",
        "\n",
        "# CIFAR-10 dataset\n",
        "train_dataset = torchvision.datasets.CIFAR10(root='../../data/',\n",
        "                                             train=True, \n",
        "                                             transform=transform,\n",
        "                                             download=True)\n",
        "\n",
        "test_dataset = torchvision.datasets.CIFAR10(root='../../data/',\n",
        "                                            train=False, \n",
        "                                            transform=transforms.ToTensor())\n",
        "\n",
        "# Data loader\n",
        "train_loader = torch.utils.data.DataLoader(dataset=train_dataset,\n",
        "                                           batch_size=100, \n",
        "                                           shuffle=True)\n",
        "\n",
        "test_loader = torch.utils.data.DataLoader(dataset=test_dataset,\n",
        "                                          batch_size=100, \n",
        "                                          shuffle=False)"
      ],
      "execution_count": 0,
      "outputs": [
        {
          "output_type": "stream",
          "text": [
            "Downloading https://www.cs.toronto.edu/~kriz/cifar-10-python.tar.gz to ../../data/cifar-10-python.tar.gz\n"
          ],
          "name": "stdout"
        }
      ]
    },
    {
      "metadata": {
        "id": "gz62ut-O7X_s",
        "colab_type": "code",
        "colab": {}
      },
      "cell_type": "code",
      "source": [
        "# For updating learning rate\n",
        "def update_lr(optimizer, lr):    \n",
        "    for param_group in optimizer.param_groups:\n",
        "        param_group['lr'] = lr\n",
        "\n",
        "# Train the model\n",
        "def train(model):\n",
        "  total_step = len(train_loader)\n",
        "  curr_lr = learning_rate\n",
        "  for epoch in range(num_epochs):\n",
        "      for i, (images, labels) in enumerate(train_loader):\n",
        "          images = images.to(device)\n",
        "          labels = labels.to(device)\n",
        "\n",
        "          # Forward pass\n",
        "          outputs = model(images)\n",
        "          loss = criterion(outputs, labels)\n",
        "\n",
        "          # Backward and optimize\n",
        "          optimizer.zero_grad()\n",
        "          loss.backward()\n",
        "          optimizer.step()\n",
        "\n",
        "          if (i+1) % 100 == 0:\n",
        "              print (\"Epoch [{}/{}], Step [{}/{}] Loss: {:.4f}\"\n",
        "                     .format(epoch+1, num_epochs, i+1, total_step, loss.item()))\n",
        "\n",
        "      # Decay learning rate\n",
        "      if (epoch+1) % 20 == 0:\n",
        "          curr_lr /= 3\n",
        "          update_lr(optimizer, curr_lr)\n",
        "\n",
        "# Test the model\n",
        "def test(model):\n",
        "  model.eval()\n",
        "  with torch.no_grad():\n",
        "      correct = 0\n",
        "      total = 0\n",
        "      for images, labels in test_loader:\n",
        "          images = images.to(device)\n",
        "          labels = labels.to(device)\n",
        "          outputs = model(images)\n",
        "          _, predicted = torch.max(outputs.data, 1)\n",
        "          total += labels.size(0)\n",
        "          correct += (predicted == labels).sum().item()\n",
        "\n",
        "      print('Accuracy of the model on the test images: {} %'.format(100 * correct / total))\n",
        "\n",
        "# Save the model checkpoint\n",
        "# torch.save(model.state_dict(), 'resnet.ckpt')"
      ],
      "execution_count": 0,
      "outputs": []
    },
    {
      "metadata": {
        "id": "mV6KEEKvYMgR",
        "colab_type": "code",
        "colab": {}
      },
      "cell_type": "code",
      "source": [
        "# 3x3 convolution\n",
        "def conv3x3(in_channels, out_channels, stride=1):\n",
        "    return nn.Conv2d(in_channels, out_channels, kernel_size=3, \n",
        "                     stride=stride, padding=1, bias=True)\n",
        "\n",
        "# 3. add a scalar multiplier (initialized at 1) in every branch \n",
        "# mult layer\n",
        "# https://discuss.pytorch.org/t/is-scale-layer-available-in-pytorch/7954/8\n",
        "class ScaleLayer(nn.Module):\n",
        "\n",
        "  def __init__(self, init_value=1):\n",
        "    super().__init__()\n",
        "    self.scale = nn.Parameter(torch.FloatTensor([init_value]))\n",
        "\n",
        "  def forward(self, input):\n",
        "       return input * self.scale\n",
        "    \n",
        "# bias layer\n",
        "class BiasLayer(nn.Module):\n",
        "\n",
        "  def __init__(self, init_value=0):\n",
        "    super().__init__()\n",
        "    self.bias = nn.Parameter(torch.FloatTensor([init_value]))\n",
        "\n",
        "  def forward(self, input):\n",
        "       return input + self.bias\n",
        "\n",
        "# Residual block\n",
        "class ResidualBlock(nn.Module):\n",
        "    def __init__(self, in_channels, out_channels, stride=1, downsample=None):\n",
        "        super(ResidualBlock, self).__init__()\n",
        "        self.bias1 = BiasLayer()\n",
        "        self.conv1 = conv3x3(in_channels, out_channels, stride)\n",
        "#         self.bn1 = nn.BatchNorm2d(out_channels)\n",
        "        self.bias2 = BiasLayer()\n",
        "        self.relu = nn.ReLU(inplace=True)\n",
        "        self.bias3 = BiasLayer()\n",
        "        self.conv2 = conv3x3(out_channels, out_channels)\n",
        "    # 3. add a scalar multiplier (initialized at 1) in every branch \n",
        "        self.mult = ScaleLayer()\n",
        "        self.bias4 = BiasLayer()\n",
        "#         self.bn2 = nn.BatchNorm2d(out_channels)\n",
        "        self.downsample = downsample\n",
        "  \n",
        "  \n",
        "        # 1. initialize the last layer of each residual branch to 0\n",
        "        if self.downsample:  \n",
        "          torch.nn.init.constant_(self.downsample.weight, 0)\n",
        "          torch.nn.init.constant_(self.downsample.bias, 0)\n",
        "        else:\n",
        "          torch.nn.init.constant_(self.conv2.weight, 0)\n",
        "          torch.nn.init.constant_(self.conv2.bias, 0)\n",
        "      # bias=False in conv3x3 so this doesn't work NOTE FOR LATER TO TRY TO SET TRUE\n",
        "      # SET BIAS TO TRUE\n",
        "#         \n",
        "      \n",
        "        # 2. initialize every other layer using a standard method (e.g., He et al. (2015))\n",
        "        # NOTE FOR LATER TRY FAN_OUT\n",
        "      # comment this out because then initialize wight layers inside residual branches lol\n",
        "#         torch.nn.init.kaiming_normal_(self.conv1.weight, mode='fan_in', nonlinearity='leaky_relu')\n",
        "#         torch.nn.init.kaiming_normal_(self.conv1.bias, mode='fan_in', nonlinearity='leaky_relu')\n",
        "        \n",
        "        # 2. L - number of residual branches; m - a small number, e.g. 2 or 3\n",
        "        # scale only the weight layers inside residual branches by L^(−1)/2m−2,\n",
        "        # i.e. can scale by sqrt(L)\n",
        "        scale_factor = torch.sqrt(torch.tensor(num_layers*3, dtype=torch.float64))\n",
        "        self.conv1.weight.data.mul_(scale_factor)\n",
        "        \n",
        "  \n",
        "        \n",
        "    def forward(self, x):\n",
        "        residual = x\n",
        "        # 3. add a scalar bias (initialized at 0) before each convolution, linear, and element-wise activation layer\n",
        "        out = self.bias1(x)\n",
        "        out = self.conv1(out)\n",
        "#         out = self.bn1(out)\n",
        "        out = self.bias2(out)\n",
        "        out = self.relu(out)\n",
        "        out = self.bias3(out)\n",
        "        out = self.conv2(out)\n",
        "    # 3. add a scalar multiplier (initialized at 1) in every branch \n",
        "        out = self.mult(out)\n",
        "        out = self.bias4(out)\n",
        "#         out = self.bn2(out)\n",
        "        if self.downsample:\n",
        "            residual = self.downsample(x)\n",
        "        out += residual\n",
        "        out = self.relu(out)\n",
        "        return out\n",
        "\n",
        "# ResNet\n",
        "class ResNet(nn.Module):\n",
        "    def __init__(self, block, layers, num_classes=10):\n",
        "        super(ResNet, self).__init__()\n",
        "        self.in_channels = 16\n",
        "        self.conv = conv3x3(3, 16)\n",
        "#         self.bn = nn.BatchNorm2d(16)\n",
        "        self.relu = nn.ReLU(inplace=True)\n",
        "        self.layer1 = self.make_layer(block, 16, layers[0])\n",
        "        self.layer2 = self.make_layer(block, 32, layers[1], 2)\n",
        "        self.layer3 = self.make_layer(block, 64, layers[2], 2)\n",
        "        self.avg_pool = nn.AvgPool2d(8)\n",
        "        self.fc = nn.Linear(64, num_classes)\n",
        "        \n",
        "        # 1. initialize the classification layer to 0\n",
        "        torch.nn.init.constant_(self.fc.weight, 0)\n",
        "        torch.nn.init.constant_(self.fc.bias, 0)\n",
        "        \n",
        "        # 2. initialize every other layer using a standard method (e.g., He et al. (2015))\n",
        "        # NOTE FOR LATER TRY FAN_OUT\n",
        "        torch.nn.init.kaiming_normal_(self.conv.weight, mode='fan_in', nonlinearity='leaky_relu')\n",
        "#         torch.nn.init.kaiming_normal_(self.conv.bias, mode='fan_in', nonlinearity='leaky_relu')\n",
        "        \n",
        "    def make_layer(self, block, out_channels, blocks, stride=1):\n",
        "        downsample = None\n",
        "        if (stride != 1) or (self.in_channels != out_channels):\n",
        "            downsample = conv3x3(self.in_channels, out_channels, stride=stride)\n",
        "        layers = []\n",
        "        layers.append(block(self.in_channels, out_channels, stride, downsample))\n",
        "        self.in_channels = out_channels\n",
        "        for i in range(1, blocks):\n",
        "            layers.append(block(out_channels, out_channels))\n",
        "        return nn.Sequential(*layers)\n",
        "    \n",
        "    def forward(self, x):\n",
        "        out = self.conv(x)\n",
        "#         out = self.bn(out)\n",
        "        out = self.relu(out)\n",
        "        out = self.layer1(out)\n",
        "        out = self.layer2(out)\n",
        "        out = self.layer3(out)\n",
        "        out = self.avg_pool(out)\n",
        "        out = out.view(out.size(0), -1)\n",
        "        out = self.fc(out)\n",
        "        return out"
      ],
      "execution_count": 0,
      "outputs": []
    },
    {
      "metadata": {
        "id": "dca9W3sIYRI9",
        "colab_type": "code",
        "colab": {}
      },
      "cell_type": "code",
      "source": [
        "# Hyper-parameters\n",
        "num_layers = 2\n",
        "num_epochs = 1\n",
        "learning_rate = 0.001"
      ],
      "execution_count": 0,
      "outputs": []
    },
    {
      "metadata": {
        "id": "10yRE9FZYSm4",
        "colab_type": "code",
        "colab": {}
      },
      "cell_type": "code",
      "source": [
        "model = ResNet(ResidualBlock, [num_layers, num_layers, num_layers]).to(device)\n",
        "\n",
        "# Loss and optimizer\n",
        "criterion = nn.CrossEntropyLoss()\n",
        "optimizer = torch.optim.Adam(model.parameters(), lr=learning_rate)"
      ],
      "execution_count": 0,
      "outputs": []
    },
    {
      "metadata": {
        "id": "5lX7c7TSYTvp",
        "colab_type": "code",
        "colab": {}
      },
      "cell_type": "code",
      "source": [
        "# print(list(model.named_modules())[0])\n",
        "# print(list(model.named_modules())[-3][1].bias)"
      ],
      "execution_count": 0,
      "outputs": []
    },
    {
      "metadata": {
        "id": "FOBbi3WfYVx2",
        "colab_type": "code",
        "outputId": "aac6de80-39e0-44bb-c235-7d1b4cb47d7b",
        "colab": {
          "base_uri": "https://localhost:8080/",
          "height": 121
        }
      },
      "cell_type": "code",
      "source": [
        "train(model)\n",
        "test(model)"
      ],
      "execution_count": 0,
      "outputs": [
        {
          "output_type": "stream",
          "text": [
            "Epoch [1/1], Step [100/500] Loss: 2.0773\n",
            "Epoch [1/1], Step [200/500] Loss: 1.8661\n",
            "Epoch [1/1], Step [300/500] Loss: 1.9114\n",
            "Epoch [1/1], Step [400/500] Loss: 1.7057\n",
            "Epoch [1/1], Step [500/500] Loss: 1.6334\n",
            "Accuracy of the model on the test images: 37.36 %\n"
          ],
          "name": "stdout"
        }
      ]
    },
    {
      "metadata": {
        "id": "EvBLGcdFiiN4",
        "colab_type": "code",
        "colab": {}
      },
      "cell_type": "code",
      "source": [
        ""
      ],
      "execution_count": 0,
      "outputs": []
    }
  ]
}